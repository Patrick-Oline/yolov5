{
 "cells": [
  {
   "cell_type": "code",
   "execution_count": 1,
   "id": "25e322f2-78ee-463f-a059-25579f6a42f6",
   "metadata": {},
   "outputs": [
    {
     "name": "stderr",
     "output_type": "stream",
     "text": [
      "fatal: cannot change to '/Users/pat/Desktop/Springboard/Projects/Springboard': No such file or directory\n",
      "YOLOv5 🚀 2023-2-20 Python-3.10.9 torch-1.13.1 CPU\n"
     ]
    },
    {
     "name": "stdout",
     "output_type": "stream",
     "text": [
      "Setup complete ✅ (8 CPUs, 8.0 GB RAM, 175.5/228.3 GB disk)\n"
     ]
    }
   ],
   "source": [
    "%pip install -qr requirements.txt  # install\n",
    "%pip install -q roboflow\n",
    "\n",
    "import torch\n",
    "import os\n",
    "from IPython.display import Image, clear_output\n",
    "import utils\n",
    "display = utils.notebook_init()  # checks"
   ]
  },
  {
   "cell_type": "code",
   "execution_count": 2,
   "id": "06934bdf-6b4e-4538-91ae-029ca7560e3a",
   "metadata": {},
   "outputs": [
    {
     "name": "stdout",
     "output_type": "stream",
     "text": [
      "upload and label your dataset, and get an API KEY here: https://app.roboflow.com/?model=yolov5&ref=ultralytics\n"
     ]
    }
   ],
   "source": [
    "from roboflow import Roboflow\n",
    "rf = Roboflow(model_format='yolov5' , notebook='ultralytics')"
   ]
  },
  {
   "cell_type": "code",
   "execution_count": 3,
   "id": "e5aa7a68-44b8-49bb-a95b-56a0ebdc6f4d",
   "metadata": {},
   "outputs": [],
   "source": [
    "os.environ['DATASET_DIRECTORY'] = '/Users/pat/Desktop/Springboard/Projects/Springboard Work/yolov5'"
   ]
  },
  {
   "cell_type": "code",
   "execution_count": 4,
   "id": "e195fb7e-118c-4cda-9fbc-8497aff6526c",
   "metadata": {},
   "outputs": [
    {
     "name": "stdout",
     "output_type": "stream",
     "text": [
      "loading Roboflow workspace...\n",
      "loading Roboflow project...\n",
      "Downloading Dataset Version Zip in /Users/pat/Desktop/Springboard/Projects/Springboard Work/yolov5/Street-Signs-1 to yolov5-obb: 100% [3449255 / 3449255] bytes\n"
     ]
    },
    {
     "name": "stderr",
     "output_type": "stream",
     "text": [
      "Extracting Dataset Version Zip to /Users/pat/Desktop/Springboard/Projects/Spring\n"
     ]
    }
   ],
   "source": [
    "rf = Roboflow(api_key=\"t1yX5QV5xYXsRqUkK0x2\")\n",
    "project = rf.workspace(\"street-signs\").project(\"street-signs-8os9s\")\n",
    "dataset = project.version(1).download(\"yolov5-obb\")"
   ]
  },
  {
   "cell_type": "code",
   "execution_count": 5,
   "id": "fe455f2a-9cd0-4c2a-9e7b-dc09b52a361d",
   "metadata": {},
   "outputs": [
    {
     "name": "stdout",
     "output_type": "stream",
     "text": [
      "\u001b[34m\u001b[1mtrain: \u001b[0mweights=yolov5s.pt, cfg=, data=Desktop/Springboard/Projects/Springboard Work/yolov5/Street-Signs-1/data.yaml, hyp=data/hyps/hyp.scratch-low.yaml, epochs=10, batch_size=16, imgsz=416, rect=False, resume=False, nosave=False, noval=False, noautoanchor=False, noplots=False, evolve=None, bucket=, cache=ram, image_weights=False, device=, multi_scale=False, single_cls=False, optimizer=SGD, sync_bn=False, workers=8, project=runs/train, name=exp, exist_ok=False, quad=False, cos_lr=False, label_smoothing=0.0, patience=100, freeze=[0], save_period=-1, seed=0, local_rank=-1, entity=None, upload_dataset=False, bbox_interval=-1, artifact_alias=latest\n",
      "\u001b[34m\u001b[1mgithub: \u001b[0mup to date with https://github.com/ultralytics/yolov5 ✅\n",
      "Traceback (most recent call last):\n",
      "  File \"/Users/pat/Desktop/Springboard/Projects/Springboard Work/yolov5/train.py\", line 640, in <module>\n",
      "    main(opt)\n",
      "  File \"/Users/pat/Desktop/Springboard/Projects/Springboard Work/yolov5/train.py\", line 504, in main\n",
      "    check_file(opt.data), check_yaml(opt.cfg), check_yaml(opt.hyp), str(opt.weights), str(opt.project)  # checks\n",
      "  File \"/Users/pat/Desktop/Springboard/Projects/Springboard Work/yolov5/utils/general.py\", line 484, in check_file\n",
      "    assert len(files), f'File not found: {file}'  # assert file was found\n",
      "AssertionError: File not found: Desktop/Springboard/Projects/Springboard Work/yolov5/Street-Signs-1/data.yaml\n"
     ]
    }
   ],
   "source": [
    "!python train.py --img 416 --batch 16 --epochs 10 --data 'Desktop/Springboard/Projects/Springboard Work/yolov5/Street-Signs-1/data.yaml' --weights yolov5s.pt --cache"
   ]
  },
  {
   "cell_type": "code",
   "execution_count": 11,
   "id": "d1e90689-4913-4ada-8860-ce56abc79db8",
   "metadata": {},
   "outputs": [],
   "source": [
    "#!pip3 install torch torchvision torchaudio"
   ]
  },
  {
   "cell_type": "code",
   "execution_count": 12,
   "id": "a12aebd9-726c-43f3-9f26-1f6ca823de02",
   "metadata": {},
   "outputs": [],
   "source": [
    "#!pip3 show torch"
   ]
  },
  {
   "cell_type": "code",
   "execution_count": 13,
   "id": "027f4473",
   "metadata": {},
   "outputs": [
    {
     "name": "stdout",
     "output_type": "stream",
     "text": [
      "Package                 Version\r\n",
      "----------------------- --------------------\r\n",
      "absl-py                 1.4.0\r\n",
      "albumentations          0.4.6\r\n",
      "anaconda-client         1.11.0\r\n",
      "anaconda-navigator      2.3.2\r\n",
      "anyio                   3.5.0\r\n",
      "appnope                 0.1.2\r\n",
      "argon2-cffi             21.3.0\r\n",
      "argon2-cffi-bindings    21.2.0\r\n",
      "asttokens               2.0.5\r\n",
      "astunparse              1.6.3\r\n",
      "attrs                   22.1.0\r\n",
      "Babel                   2.11.0\r\n",
      "backcall                0.2.0\r\n",
      "beautifulsoup4          4.11.1\r\n",
      "bleach                  4.1.0\r\n",
      "brotlipy                0.7.0\r\n",
      "cachetools              5.3.0\r\n",
      "certifi                 2022.12.7\r\n",
      "cffi                    1.15.1\r\n",
      "chardet                 4.0.0\r\n",
      "charset-normalizer      2.0.4\r\n",
      "clearml                 1.9.1\r\n",
      "clyent                  1.2.2\r\n",
      "comm                    0.1.2\r\n",
      "conda                   23.1.0\r\n",
      "conda-content-trust     0.1.3\r\n",
      "conda-package-handling  2.0.2\r\n",
      "conda_package_streaming 0.7.0\r\n",
      "conda-repo-cli          1.0.27\r\n",
      "conda-token             0.4.0\r\n",
      "contourpy               1.0.7\r\n",
      "cryptography            38.0.4\r\n",
      "cycler                  0.10.0\r\n",
      "debugpy                 1.5.1\r\n",
      "decorator               5.1.1\r\n",
      "defusedxml              0.7.1\r\n",
      "entrypoints             0.4\r\n",
      "executing               0.8.3\r\n",
      "fastjsonschema          2.16.2\r\n",
      "flatbuffers             1.12\r\n",
      "flit_core               3.6.0\r\n",
      "fonttools               4.38.0\r\n",
      "furl                    2.1.3\r\n",
      "gast                    0.4.0\r\n",
      "gitdb                   4.0.10\r\n",
      "GitPython               3.1.31\r\n",
      "google-auth             2.16.1\r\n",
      "google-auth-oauthlib    0.4.6\r\n",
      "google-pasta            0.2.0\r\n",
      "grpcio                  1.42.0\r\n",
      "h5py                    3.6.0\r\n",
      "idna                    2.10\r\n",
      "imageio                 2.25.1\r\n",
      "imgaug                  0.4.0\r\n",
      "ipykernel               6.19.2\r\n",
      "ipython                 8.10.0\r\n",
      "ipython-genutils        0.2.0\r\n",
      "ipywidgets              7.6.5\r\n",
      "jedi                    0.18.1\r\n",
      "Jinja2                  3.1.2\r\n",
      "json5                   0.9.6\r\n",
      "jsonschema              4.17.3\r\n",
      "jupyter                 1.0.0\r\n",
      "jupyter_client          7.4.9\r\n",
      "jupyter-console         6.4.4\r\n",
      "jupyter_core            5.2.0\r\n",
      "jupyter-server          1.23.4\r\n",
      "jupyterlab              3.5.3\r\n",
      "jupyterlab-pygments     0.1.2\r\n",
      "jupyterlab_server       2.16.5\r\n",
      "jupyterlab-widgets      1.0.0\r\n",
      "keras                   2.9.0\r\n",
      "Keras-Preprocessing     1.1.2\r\n",
      "kiwisolver              1.4.4\r\n",
      "libclang                15.0.6.1\r\n",
      "lxml                    4.9.1\r\n",
      "Markdown                3.4.1\r\n",
      "MarkupSafe              2.1.1\r\n",
      "matplotlib              3.7.0\r\n",
      "matplotlib-inline       0.1.6\r\n",
      "mistune                 0.8.4\r\n",
      "navigator-updater       0.3.0\r\n",
      "nbclassic               0.5.2\r\n",
      "nbclient                0.5.13\r\n",
      "nbconvert               6.5.4\r\n",
      "nbformat                5.7.0\r\n",
      "nest-asyncio            1.5.6\r\n",
      "networkx                3.0\r\n",
      "notebook                6.5.2\r\n",
      "notebook_shim           0.2.2\r\n",
      "numpy                   1.22.3\r\n",
      "oauthlib                3.2.2\r\n",
      "opencv-python           4.7.0.72\r\n",
      "opt-einsum              3.3.0\r\n",
      "orderedmultidict        1.0.1\r\n",
      "packaging               22.0\r\n",
      "pandas                  1.5.3\r\n",
      "pandocfilters           1.5.0\r\n",
      "parso                   0.8.3\r\n",
      "pathlib                 1.0.1\r\n",
      "pathlib2                2.3.7.post1\r\n",
      "pexpect                 4.8.0\r\n",
      "pickleshare             0.7.5\r\n",
      "Pillow                  9.3.0\r\n",
      "pip                     22.3.1\r\n",
      "platformdirs            2.5.2\r\n",
      "pluggy                  1.0.0\r\n",
      "ply                     3.11\r\n",
      "prometheus-client       0.14.1\r\n",
      "prompt-toolkit          3.0.36\r\n",
      "protobuf                3.19.6\r\n",
      "psutil                  5.9.0\r\n",
      "ptyprocess              0.7.0\r\n",
      "pure-eval               0.2.2\r\n",
      "pyasn1                  0.4.8\r\n",
      "pyasn1-modules          0.2.8\r\n",
      "pycocotools             2.0.6\r\n",
      "pycosat                 0.6.4\r\n",
      "pycparser               2.21\r\n",
      "Pygments                2.11.2\r\n",
      "PyJWT                   2.4.0\r\n",
      "pyOpenSSL               22.0.0\r\n",
      "pyparsing               2.4.7\r\n",
      "PyQt5-sip               12.11.0\r\n",
      "pyrsistent              0.18.0\r\n",
      "PySocks                 1.7.1\r\n",
      "python-dateutil         2.8.2\r\n",
      "python-dotenv           0.21.1\r\n",
      "pytz                    2022.7\r\n",
      "PyWavelets              1.4.1\r\n",
      "PyYAML                  6.0\r\n",
      "pyzmq                   23.2.0\r\n",
      "qtconsole               5.4.0\r\n",
      "QtPy                    2.2.0\r\n",
      "requests                2.28.1\r\n",
      "requests-oauthlib       1.3.1\r\n",
      "requests-toolbelt       0.10.1\r\n",
      "roboflow                0.2.31\r\n",
      "rsa                     4.9\r\n",
      "ruamel.yaml             0.17.21\r\n",
      "ruamel.yaml.clib        0.2.6\r\n",
      "scikit-image            0.19.3\r\n",
      "scipy                   1.10.1\r\n",
      "seaborn                 0.12.2\r\n",
      "Send2Trash              1.8.0\r\n",
      "setuptools              65.6.3\r\n",
      "shapely                 2.0.1\r\n",
      "sip                     6.6.2\r\n",
      "six                     1.16.0\r\n",
      "smmap                   5.0.0\r\n",
      "sniffio                 1.2.0\r\n",
      "soupsieve               2.3.2.post1\r\n",
      "stack-data              0.2.0\r\n",
      "tensorboard             2.9.1\r\n",
      "tensorboard-data-server 0.6.1\r\n",
      "tensorboard-plugin-wit  1.8.1\r\n",
      "tensorflow-estimator    2.9.0\r\n",
      "tensorflow-macos        2.9.0\r\n",
      "tensorflow-metal        0.7.1\r\n",
      "termcolor               2.2.0\r\n",
      "terminado               0.17.1\r\n",
      "thop                    0.1.1.post2209072238\r\n",
      "tifffile                2023.2.3\r\n",
      "tinycss2                1.2.1\r\n",
      "toml                    0.10.2\r\n",
      "tomli                   2.0.1\r\n",
      "toolz                   0.12.0\r\n",
      "torch                   1.13.1\r\n",
      "torchaudio              0.13.1\r\n",
      "torchvision             0.14.1\r\n",
      "tornado                 6.2\r\n",
      "tqdm                    4.64.1\r\n",
      "traitlets               5.7.1\r\n",
      "typing_extensions       4.4.0\r\n",
      "ujson                   5.4.0\r\n",
      "urllib3                 1.26.14\r\n",
      "wcwidth                 0.2.5\r\n",
      "webencodings            0.5.1\r\n",
      "websocket-client        0.58.0\r\n",
      "Werkzeug                2.2.3\r\n",
      "wget                    3.2\r\n",
      "wheel                   0.38.4\r\n",
      "widgetsnbextension      3.5.2\r\n",
      "wrapt                   1.14.1\r\n",
      "zstandard               0.18.0\r\n"
     ]
    }
   ],
   "source": [
    "!pip list"
   ]
  },
  {
   "cell_type": "code",
   "execution_count": 14,
   "id": "9892b0f6",
   "metadata": {},
   "outputs": [
    {
     "ename": "SyntaxError",
     "evalue": "invalid syntax (2950733246.py, line 1)",
     "output_type": "error",
     "traceback": [
      "\u001b[0;36m  Cell \u001b[0;32mIn[14], line 1\u001b[0;36m\u001b[0m\n\u001b[0;31m    detect.py --source 1\u001b[0m\n\u001b[0m                       ^\u001b[0m\n\u001b[0;31mSyntaxError\u001b[0m\u001b[0;31m:\u001b[0m invalid syntax\n"
     ]
    }
   ],
   "source": [
    "detect.py --source 1"
   ]
  },
  {
   "cell_type": "code",
   "execution_count": null,
   "id": "b336d7a0",
   "metadata": {},
   "outputs": [],
   "source": []
  }
 ],
 "metadata": {
  "kernelspec": {
   "display_name": "Python 3 (ipykernel)",
   "language": "python",
   "name": "python3"
  },
  "language_info": {
   "codemirror_mode": {
    "name": "ipython",
    "version": 3
   },
   "file_extension": ".py",
   "mimetype": "text/x-python",
   "name": "python",
   "nbconvert_exporter": "python",
   "pygments_lexer": "ipython3",
   "version": "3.10.9"
  }
 },
 "nbformat": 4,
 "nbformat_minor": 5
}
