{
 "cells": [
  {
   "cell_type": "code",
   "execution_count": 36,
   "id": "25e322f2-78ee-463f-a059-25579f6a42f6",
   "metadata": {},
   "outputs": [
    {
     "name": "stderr",
     "output_type": "stream",
     "text": [
      "fatal: cannot change to '/Users/pat/Desktop/Springboard/Projects/Springboard': No such file or directory\n",
      "YOLOv5 🚀 2023-2-20 Python-3.9.7 torch-1.13.1 CPU\n"
     ]
    },
    {
     "name": "stdout",
     "output_type": "stream",
     "text": [
      "Setup complete ✅ (8 CPUs, 8.0 GB RAM, 184.2/228.3 GB disk)\n"
     ]
    }
   ],
   "source": [
    "%pip install -qr requirements.txt  # install\n",
    "%pip install -q roboflow\n",
    "\n",
    "import torch\n",
    "import os\n",
    "from IPython.display import Image, clear_output\n",
    "import utils\n",
    "display = utils.notebook_init()  # checks"
   ]
  },
  {
   "cell_type": "code",
   "execution_count": 10,
   "id": "06934bdf-6b4e-4538-91ae-029ca7560e3a",
   "metadata": {},
   "outputs": [
    {
     "name": "stdout",
     "output_type": "stream",
     "text": [
      "upload and label your dataset, and get an API KEY here: https://app.roboflow.com/?model=yolov5&ref=ultralytics\n"
     ]
    }
   ],
   "source": [
    "from roboflow import Roboflow\n",
    "rf = Roboflow(model_format='yolov5' , notebook='ultralytics')"
   ]
  },
  {
   "cell_type": "code",
   "execution_count": 39,
   "id": "e5aa7a68-44b8-49bb-a95b-56a0ebdc6f4d",
   "metadata": {},
   "outputs": [],
   "source": [
    "os.environ['DATASET_DIRECTORY'] = '/Users/pat/Desktop/Springboard/Projects/Springboard Work/yolov5'"
   ]
  },
  {
   "cell_type": "code",
   "execution_count": 40,
   "id": "e195fb7e-118c-4cda-9fbc-8497aff6526c",
   "metadata": {},
   "outputs": [
    {
     "name": "stdout",
     "output_type": "stream",
     "text": [
      "loading Roboflow workspace...\n",
      "loading Roboflow project...\n",
      "Downloading Dataset Version Zip in /Users/pat/Desktop/Springboard/Projects/Springboard Work/yolov5/Street-Signs-1 to yolov5-obb: 100% [3449255 / 3449255] bytes\n"
     ]
    },
    {
     "name": "stderr",
     "output_type": "stream",
     "text": [
      "Extracting Dataset Version Zip to /Users/pat/Desktop/Springboard/Projects/Springboard Work/yolov5/Street-Signs-1 in yolov5-obb:: 100%|██████████| 193/193 [00:00<00:00, 4144.21it/s]\n"
     ]
    }
   ],
   "source": [
    "rf = Roboflow(api_key=\"t1yX5QV5xYXsRqUkK0x2\")\n",
    "project = rf.workspace(\"street-signs\").project(\"street-signs-8os9s\")\n",
    "dataset = project.version(1).download(\"yolov5-obb\")"
   ]
  },
  {
   "cell_type": "code",
   "execution_count": 47,
   "id": "fe455f2a-9cd0-4c2a-9e7b-dc09b52a361d",
   "metadata": {},
   "outputs": [
    {
     "name": "stdout",
     "output_type": "stream",
     "text": [
      "\u001b[34m\u001b[1mtrain: \u001b[0mweights=yolov5s.pt, cfg=, data=Desktop/Springboard/Projects/Springboard Work/yolov5/Street-Signs-1/data.yaml, hyp=data/hyps/hyp.scratch-low.yaml, epochs=10, batch_size=16, imgsz=416, rect=False, resume=False, nosave=False, noval=False, noautoanchor=False, noplots=False, evolve=None, bucket=, cache=ram, image_weights=False, device=, multi_scale=False, single_cls=False, optimizer=SGD, sync_bn=False, workers=8, project=runs/train, name=exp, exist_ok=False, quad=False, cos_lr=False, label_smoothing=0.0, patience=100, freeze=[0], save_period=-1, seed=0, local_rank=-1, entity=None, upload_dataset=False, bbox_interval=-1, artifact_alias=latest\n",
      "\u001b[34m\u001b[1mgithub: \u001b[0mup to date with https://github.com/ultralytics/yolov5 ✅\n",
      "Traceback (most recent call last):\n",
      "  File \"/Users/pat/Desktop/Springboard/Projects/Springboard Work/yolov5/train.py\", line 640, in <module>\n",
      "    main(opt)\n",
      "  File \"/Users/pat/Desktop/Springboard/Projects/Springboard Work/yolov5/train.py\", line 504, in main\n",
      "    check_file(opt.data), check_yaml(opt.cfg), check_yaml(opt.hyp), str(opt.weights), str(opt.project)  # checks\n",
      "  File \"/Users/pat/Desktop/Springboard/Projects/Springboard Work/yolov5/utils/general.py\", line 484, in check_file\n",
      "    assert len(files), f'File not found: {file}'  # assert file was found\n",
      "AssertionError: File not found: Desktop/Springboard/Projects/Springboard Work/yolov5/Street-Signs-1/data.yaml\n"
     ]
    }
   ],
   "source": [
    "!python train.py --img 416 --batch 16 --epochs 10 --data 'Desktop/Springboard/Projects/Springboard Work/yolov5/Street-Signs-1/data.yaml' --weights yolov5s.pt --cache"
   ]
  },
  {
   "cell_type": "code",
   "execution_count": null,
   "id": "d1e90689-4913-4ada-8860-ce56abc79db8",
   "metadata": {},
   "outputs": [],
   "source": []
  },
  {
   "cell_type": "code",
   "execution_count": null,
   "id": "a12aebd9-726c-43f3-9f26-1f6ca823de02",
   "metadata": {},
   "outputs": [],
   "source": []
  }
 ],
 "metadata": {
  "kernelspec": {
   "display_name": "Python 3 (ipykernel)",
   "language": "python",
   "name": "python3"
  },
  "language_info": {
   "codemirror_mode": {
    "name": "ipython",
    "version": 3
   },
   "file_extension": ".py",
   "mimetype": "text/x-python",
   "name": "python",
   "nbconvert_exporter": "python",
   "pygments_lexer": "ipython3",
   "version": "3.9.7"
  }
 },
 "nbformat": 4,
 "nbformat_minor": 5
}
